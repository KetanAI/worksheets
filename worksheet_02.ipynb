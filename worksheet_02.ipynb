{
 "cells": [
  {
   "attachments": {},
   "cell_type": "markdown",
   "metadata": {},
   "source": [
    "# Worksheet 02\n",
    "\n",
    "Name: Ketan Suhaas Saichandran\\\n",
    "UID: U68176921\n",
    "\n",
    "### Topics\n",
    "\n",
    "- Effective Programming\n",
    "\n",
    "### Effective Programming\n",
    "\n",
    "a) What is a drawback of the top down approach?"
   ]
  },
  {
   "cell_type": "markdown",
   "metadata": {},
   "source": [
    "The Top-down approach is basically recursion, and it relies on function calls. Funcion calls consume memory on the call stack. Every time the problem is broken down into smaller problems, each smaller problem requires an exclusive function call, which happens all at the same. This causes a stack overflow, it happens when the stack memory limit is exceeded. Also, the same sub-problems are solved again and again which is very inefficient."
   ]
  },
  {
   "cell_type": "markdown",
   "metadata": {},
   "source": [
    "b) What is a drawback of the bottom up approach?"
   ]
  },
  {
   "cell_type": "markdown",
   "metadata": {},
   "source": [
    "The Bottom-up approach solves the sub-problems first and relates these sub problems to solve the larger problem (parent problem). Understanding and formulating the problem from sub-problems to the larger problem requires significant effort. Designing and populating the memory table requires good intuition. Also, we end up solving unnecessary sub-problems which will not lead to the solution of the required parent problem."
   ]
  },
  {
   "cell_type": "markdown",
   "metadata": {},
   "source": [
    "c) What are 3 things you can do to have a better debugging experience?"
   ]
  },
  {
   "cell_type": "markdown",
   "metadata": {},
   "source": [
    "1. Re-read your code and trace the flow and find why the error occured.\n",
    "2. Sanity check where you can.\n",
    "3. Use modern debugging tools like breakpoints or whatever the IDE provides or just print the variables and keep checking their values."
   ]
  },
  {
   "attachments": {},
   "cell_type": "markdown",
   "metadata": {},
   "source": [
    "d) Follow along with the live coding. You can write your code here:"
   ]
  },
  {
   "cell_type": "code",
   "execution_count": 6,
   "metadata": {},
   "outputs": [
    {
     "name": "stdout",
     "output_type": "stream",
     "text": [
      "No more solutions\n",
      "No more solutions\n",
      "No more solutions\n",
      "No more solutions\n",
      "No more solutions\n",
      "No more solutions\n",
      "No more solutions\n",
      "No more solutions\n",
      "No more solutions\n",
      "No more solutions\n",
      "No more solutions\n",
      "No more solutions\n",
      "No more solutions\n",
      "No more solutions\n",
      "No more solutions\n",
      "No more solutions\n",
      "No more solutions\n",
      "No more solutions\n",
      "No more solutions\n",
      "No more solutions\n",
      "No more solutions\n",
      "No more solutions\n"
     ]
    },
    {
     "ename": "ValueError",
     "evalue": "Programming error",
     "output_type": "error",
     "traceback": [
      "\u001b[1;31m---------------------------------------------------------------------------\u001b[0m",
      "\u001b[1;31mValueError\u001b[0m                                Traceback (most recent call last)",
      "\u001b[1;32mc:\\Users\\91960\\Desktop\\Comp tools\\Data-Science-Fundamentals-main\\lecture_02\\worksheet_02.ipynb Cell 8\u001b[0m line \u001b[0;36m9\n\u001b[0;32m     <a href='vscode-notebook-cell:/c%3A/Users/91960/Desktop/Comp%20tools/Data-Science-Fundamentals-main/lecture_02/worksheet_02.ipynb#X11sZmlsZQ%3D%3D?line=93'>94</a>\u001b[0m             \u001b[39mprint\u001b[39m(\u001b[39m\"\u001b[39m\u001b[39mNo more solutions\u001b[39m\u001b[39m\"\u001b[39m)\n\u001b[0;32m     <a href='vscode-notebook-cell:/c%3A/Users/91960/Desktop/Comp%20tools/Data-Science-Fundamentals-main/lecture_02/worksheet_02.ipynb#X11sZmlsZQ%3D%3D?line=94'>95</a>\u001b[0m my_board \u001b[39m=\u001b[39m Board()\n\u001b[1;32m---> <a href='vscode-notebook-cell:/c%3A/Users/91960/Desktop/Comp%20tools/Data-Science-Fundamentals-main/lecture_02/worksheet_02.ipynb#X11sZmlsZQ%3D%3D?line=95'>96</a>\u001b[0m \u001b[39mprint\u001b[39m (my_board\u001b[39m.\u001b[39;49msearch())\n",
      "\u001b[1;32mc:\\Users\\91960\\Desktop\\Comp tools\\Data-Science-Fundamentals-main\\lecture_02\\worksheet_02.ipynb Cell 8\u001b[0m line \u001b[0;36m8\n\u001b[0;32m     <a href='vscode-notebook-cell:/c%3A/Users/91960/Desktop/Comp%20tools/Data-Science-Fundamentals-main/lecture_02/worksheet_02.ipynb#X11sZmlsZQ%3D%3D?line=78'>79</a>\u001b[0m col \u001b[39m+\u001b[39m\u001b[39m=\u001b[39m\u001b[39m1\u001b[39m\n\u001b[0;32m     <a href='vscode-notebook-cell:/c%3A/Users/91960/Desktop/Comp%20tools/Data-Science-Fundamentals-main/lecture_02/worksheet_02.ipynb#X11sZmlsZQ%3D%3D?line=79'>80</a>\u001b[0m \u001b[39mwhile\u001b[39;00m col \u001b[39m>\u001b[39m\u001b[39m=\u001b[39m \u001b[39m8\u001b[39m:\n\u001b[1;32m---> <a href='vscode-notebook-cell:/c%3A/Users/91960/Desktop/Comp%20tools/Data-Science-Fundamentals-main/lecture_02/worksheet_02.ipynb#X11sZmlsZQ%3D%3D?line=80'>81</a>\u001b[0m     col \u001b[39m=\u001b[39m \u001b[39mself\u001b[39;49m\u001b[39m.\u001b[39;49mget_queen_on(row\u001b[39m-\u001b[39;49m\u001b[39m1\u001b[39;49m)\n\u001b[0;32m     <a href='vscode-notebook-cell:/c%3A/Users/91960/Desktop/Comp%20tools/Data-Science-Fundamentals-main/lecture_02/worksheet_02.ipynb#X11sZmlsZQ%3D%3D?line=81'>82</a>\u001b[0m     \u001b[39mself\u001b[39m\u001b[39m.\u001b[39munset_queen_on(row\u001b[39m-\u001b[39m\u001b[39m1\u001b[39m)\n\u001b[0;32m     <a href='vscode-notebook-cell:/c%3A/Users/91960/Desktop/Comp%20tools/Data-Science-Fundamentals-main/lecture_02/worksheet_02.ipynb#X11sZmlsZQ%3D%3D?line=82'>83</a>\u001b[0m     col \u001b[39m+\u001b[39m\u001b[39m=\u001b[39m \u001b[39m1\u001b[39m\n",
      "\u001b[1;32mc:\\Users\\91960\\Desktop\\Comp tools\\Data-Science-Fundamentals-main\\lecture_02\\worksheet_02.ipynb Cell 8\u001b[0m line \u001b[0;36m6\n\u001b[0;32m     <a href='vscode-notebook-cell:/c%3A/Users/91960/Desktop/Comp%20tools/Data-Science-Fundamentals-main/lecture_02/worksheet_02.ipynb#X11sZmlsZQ%3D%3D?line=62'>63</a>\u001b[0m \u001b[39mif\u001b[39;00m \u001b[39mself\u001b[39m\u001b[39m.\u001b[39mboard[row][col] \u001b[39m==\u001b[39m \u001b[39m\"\u001b[39m\u001b[39mQ\u001b[39m\u001b[39m\"\u001b[39m:\n\u001b[0;32m     <a href='vscode-notebook-cell:/c%3A/Users/91960/Desktop/Comp%20tools/Data-Science-Fundamentals-main/lecture_02/worksheet_02.ipynb#X11sZmlsZQ%3D%3D?line=63'>64</a>\u001b[0m     \u001b[39mreturn\u001b[39;00m col\n\u001b[1;32m---> <a href='vscode-notebook-cell:/c%3A/Users/91960/Desktop/Comp%20tools/Data-Science-Fundamentals-main/lecture_02/worksheet_02.ipynb#X11sZmlsZQ%3D%3D?line=64'>65</a>\u001b[0m \u001b[39mraise\u001b[39;00m \u001b[39mValueError\u001b[39;00m(\u001b[39m\"\u001b[39m\u001b[39mProgramming error\u001b[39m\u001b[39m\"\u001b[39m)\n",
      "\u001b[1;31mValueError\u001b[0m: Programming error"
     ]
    }
   ],
   "source": [
    "#The code takes forever to terminate, but it works\n",
    "class Board:    \n",
    "    def __init__(self):\n",
    "        self.board = [[\"_\" for _ in range(8)] for _ in range(8)]\n",
    "\n",
    "\n",
    "    def __repr__(self):\n",
    "        res = \"\"\n",
    "\n",
    "        for row in self.board:\n",
    "            for col in row:\n",
    "                res += col\n",
    "                res += \" \"\n",
    "            res += \"\\n\"\n",
    "        return res\n",
    "\n",
    "    def is_legal_row(self,row,col):\n",
    "        for j in range(len(self.board)):\n",
    "            if self.board[row][j] == \"Q\":\n",
    "                return False\n",
    "        return True\n",
    "\n",
    "\n",
    "    def is_legal_col(self,row,col):\n",
    "        for i in range(len(self.board)):\n",
    "            if self.board[i][col] == \"Q\":\n",
    "                return False\n",
    "        return True\n",
    "\n",
    "    def is_on_board(self,row,col):\n",
    "        return row >= 0 and row < 8 and col >= 0 and col <8\n",
    "\n",
    "    def is_legal_diag(self,row,col):\n",
    "        for i in range(len(self.board)):\n",
    "            if self.is_on_board(row-i, col-i) and self.board[row-i][col-i] == \"Q\":\n",
    "                return False\n",
    "            if self.is_on_board(row-i, col+i) and self.board[row-i][col+i] == \"Q\":\n",
    "                return False\n",
    "            if self.is_on_board(row+i, col-i) and self.board[row+i][col-i] == \"Q\":\n",
    "                return False\n",
    "            if self.is_on_board(row+i, col+i) and self.board[row+i][col+i] == \"Q\":\n",
    "                return False\n",
    "\n",
    "        return True\n",
    "\n",
    "\n",
    "    def is_legal(self,row,col):\n",
    "        if not self.is_legal_row(row,col):\n",
    "            return False\n",
    "        if not self.is_legal_col(row,col):\n",
    "            return False\n",
    "        if not self.is_legal_diag(row,col):\n",
    "            return False\n",
    "        return True\n",
    "\n",
    "    def set_queen_at(self,row,col):\n",
    "        self.board[row][col] = \"Q\"\n",
    "\n",
    "    def unset_queen_on(self,row):\n",
    "        self.board[row] = [\"_\" for _ in range(8)]\n",
    "\n",
    "    def get_queen_on(self,row):\n",
    "        for col in range(len(self.board)):\n",
    "            if self.board[row][col] == \"Q\":\n",
    "                return col\n",
    "        raise ValueError(\"Programming error\")\n",
    "\n",
    "\n",
    "    def search(self):\n",
    "        row = 0\n",
    "        col = 0\n",
    "\n",
    "        while row >= 0:\n",
    "            if row < 8:\n",
    "                if self.is_legal(row,col):\n",
    "                    self.set_queen_at(row,col)\n",
    "                    row += 1\n",
    "                    col = 0\n",
    "                else:\n",
    "                    col +=1\n",
    "                    while col >= 8:\n",
    "                        col = self.get_queen_on(row-1)\n",
    "                        self.unset_queen_on(row-1)\n",
    "                        col += 1\n",
    "                        row -= 1\n",
    "\n",
    "            else:\n",
    "                print(\"Found a solution\")\n",
    "                print(self)\n",
    "                while col >= 8:\n",
    "                    col = self.get_queen_on(row-1)\n",
    "                    self.unset_queen_on(row-1)\n",
    "                    col += 1\n",
    "                    row -= 1\n",
    "        print(\"No more solutions\")\n",
    "my_board = Board()\n",
    "print (my_board.search())"
   ]
  },
  {
   "cell_type": "code",
   "execution_count": null,
   "metadata": {},
   "outputs": [],
   "source": []
  }
 ],
 "metadata": {
  "kernelspec": {
   "display_name": "Python 3",
   "language": "python",
   "name": "python3"
  },
  "language_info": {
   "codemirror_mode": {
    "name": "ipython",
    "version": 3
   },
   "file_extension": ".py",
   "mimetype": "text/x-python",
   "name": "python",
   "nbconvert_exporter": "python",
   "pygments_lexer": "ipython3",
   "version": "3.9.16"
  },
  "orig_nbformat": 4,
  "vscode": {
   "interpreter": {
    "hash": "76ca05dc3ea24b2e3b98cdb7774adfbb40773424bf5109b477fd793f623715af"
   }
  }
 },
 "nbformat": 4,
 "nbformat_minor": 2
}
