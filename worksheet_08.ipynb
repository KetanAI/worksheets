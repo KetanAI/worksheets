{
 "cells": [
  {
   "attachments": {},
   "cell_type": "markdown",
   "metadata": {},
   "source": [
    "# Worksheet 08\n",
    "\n",
    "Name:  \n",
    "UID: \n",
    "\n",
    "### Topics\n",
    "\n",
    "- Soft Clustering\n",
    "- Clustering Aggregation\n",
    "\n",
    "### Probability Review\n",
    "\n",
    "Read through [the following](https://medium.com/@gallettilance/overview-of-probability-3272b72c82c8)\n",
    "\n",
    "### Soft Clustering\n",
    "\n",
    "We generate 10 data points that come from a normal distribution with mean 5 and variance 1."
   ]
  },
  {
   "cell_type": "code",
   "execution_count": 114,
   "metadata": {},
   "outputs": [
    {
     "name": "stdout",
     "output_type": "stream",
     "text": [
      "[4.844216695135329, 4.716258277002348, 6.025366749890605, 4.755038908779573, 4.911697602463441, 3.8478310497651957, 3.7595943235876996, 6.074171098785609, 4.06054717142707, 4.490001195719794]\n"
     ]
    }
   ],
   "source": [
    "import random\n",
    "import numpy as np\n",
    "from sklearn.cluster import KMeans\n",
    "\n",
    "mean = 5\n",
    "stdev = 1\n",
    "\n",
    "s1 = np.random.normal(mean, stdev, 10).tolist()\n",
    "print(s1)"
   ]
  },
  {
   "cell_type": "markdown",
   "metadata": {},
   "source": [
    "a) Generate 10 more data points, this time coming from a normal distribution with mean 8 and variance 1."
   ]
  },
  {
   "cell_type": "code",
   "execution_count": 115,
   "metadata": {},
   "outputs": [
    {
     "name": "stdout",
     "output_type": "stream",
     "text": [
      "[8.768375888354907, 7.350391696456876, 8.539638909053721, 7.040251388248902, 7.403072003308161, 7.476647540564181, 9.17405057025647, 6.059744343083684, 8.8891590816516, 8.88409310831863]\n"
     ]
    }
   ],
   "source": [
    "s2 = np.random.normal(8, 1, 10).tolist()\n",
    "print(s2)"
   ]
  },
  {
   "cell_type": "markdown",
   "metadata": {},
   "source": [
    "b) Flip a fair coin 10 times. If the coin lands on H, then pick the last data point of `c1` and remove it from `c1`, if T then pick the last data point from `c2` and remove it from `c2`. Add these 10 points to a list called `data`."
   ]
  },
  {
   "cell_type": "code",
   "execution_count": 116,
   "metadata": {},
   "outputs": [
    {
     "name": "stdout",
     "output_type": "stream",
     "text": [
      "[4.490001195719794, 4.06054717142707, 8.88409310831863, 8.8891590816516, 6.074171098785609, 3.7595943235876996, 6.059744343083684, 9.17405057025647, 7.476647540564181, 3.8478310497651957]\n"
     ]
    }
   ],
   "source": [
    "data = []\n",
    "for i in range(10):\n",
    "    # flip coin\n",
    "    coin_output = random.choice([0, 1])\n",
    "    if coin_output == 0:\n",
    "        p1 = s1[-1]\n",
    "        s1.pop()\n",
    "        data.append(p1)\n",
    "    else:\n",
    "        p2 = s2[-1]\n",
    "        s2.pop()\n",
    "        data.append(p2)\n",
    "print(data)"
   ]
  },
  {
   "cell_type": "markdown",
   "metadata": {},
   "source": [
    "c) This `data` is a Gaussian Mixture Distribution with 2 mixture components. Over the next few questions we will walk through the GMM algorithm to see if we can uncover the parameters we used to generate this data. First, please list all these parameters of the GMM that created `data` and the values we know they have."
   ]
  },
  {
   "cell_type": "markdown",
   "metadata": {},
   "source": [
    "1. No of components = 2.\n",
    "2. Means of components = [5, 8]\n",
    "3. Standard deviations of components = [1, 1]\n",
    "4. Weight of the components = [1/2, 1/2] (Uniform Distribution)\n",
    "\n"
   ]
  },
  {
   "cell_type": "markdown",
   "metadata": {},
   "source": [
    "d) Let's assume there are two mixture components (note: we could plot the data and make the observation that there are two clusters). The EM algorithm asks us to start with a random `mean_j`, `variance_j`, `P(S_j)` for each component j. One method we could use to find sensible values for these is to apply K means with k=2 here.\n",
    "\n",
    "1. the centroids would be the estimates of the `mean_j`\n",
    "2. the intra-cluster variance could be the estimate of `variance_j`\n",
    "3. the proportion of points in each cluster could be the estimate of `P(S_j)`\n",
    "\n",
    "Go through this process and list the parameter estimates it gives. Are they close or far from the true values?"
   ]
  },
  {
   "cell_type": "code",
   "execution_count": 117,
   "metadata": {},
   "outputs": [
    {
     "name": "stdout",
     "output_type": "stream",
     "text": [
      "[4.490001195719794, 4.06054717142707, 8.88409310831863, 8.8891590816516, 6.074171098785609, 3.7595943235876996, 6.059744343083684, 9.17405057025647, 7.476647540564181, 3.8478310497651957]\n",
      "[8.88409310831863, 8.8891590816516, 9.17405057025647, 7.476647540564181]\n",
      "[8.768375888354907, 7.350391696456876, 8.539638909053721, 7.040251388248902, 7.403072003308161]\n",
      "P(S_1) = 0.5454545454545454,  P(S_2) = 0.45454545454545453\n",
      "mean_1 = 4.715314863728175,  mean_2 = 7.820345977084514\n",
      "var_1 = 0.9665662984535758,  var_2 = 0.4839330394492318\n"
     ]
    },
    {
     "name": "stderr",
     "output_type": "stream",
     "text": [
      "c:\\Users\\91960\\anaconda3\\envs\\tf\\lib\\site-packages\\sklearn\\cluster\\_kmeans.py:870: FutureWarning: The default value of `n_init` will change from 10 to 'auto' in 1.4. Set the value of `n_init` explicitly to suppress the warning\n",
      "  warnings.warn(\n"
     ]
    }
   ],
   "source": [
    "kmeans = KMeans(2, init='k-means++').fit(X=np.array(data).reshape(-1, 1))\n",
    "print(data)\n",
    "s1 = [x[0] for x in filter(lambda x: x[1] == 0, zip(data, kmeans.labels_))]\n",
    "print(s1)\n",
    "s1 = [x[0] for x in filter(lambda x: x[1] == 1, zip(data, kmeans.labels_))]\n",
    "print(s2)\n",
    "\n",
    "prob_s = [ len(s1) / (len(s1) + len(s2)) , len(s2) / (len(s1) + len(s2)) ]\n",
    "mean = [ sum(s1)/len(s1) , sum(s2)/len(s2) ]\n",
    "var = [ sum(map(lambda x : (x - mean[0])**2, s1)) / len(s1) , sum(map(lambda x : (x - mean[1])**2, s2)) / len(s2)]\n",
    "\n",
    "print(\"P(S_1) = \" + str(prob_s[0]) + \",  P(S_2) = \" + str(prob_s[1]))\n",
    "print(\"mean_1 = \" + str(mean[0]) + \",  mean_2 = \" + str(mean[1]))\n",
    "print(\"var_1 = \" + str(var[0]) + \",  var_2 = \" + str(var[1]))"
   ]
  },
  {
   "cell_type": "markdown",
   "metadata": {},
   "source": [
    "- The mean of the distributions clustered are close to the true values.\n",
    "- The variances are almost close to the true values.\n",
    "- The weights of the distributions are close to the true values."
   ]
  },
  {
   "cell_type": "markdown",
   "metadata": {},
   "source": [
    "e) For each data point, compute `P(S_j | X_i)`. Comment on which cluster you think each point belongs to based on the estimated probabilities. How does that compare to the truth?"
   ]
  },
  {
   "cell_type": "code",
   "execution_count": 118,
   "metadata": {},
   "outputs": [
    {
     "name": "stdout",
     "output_type": "stream",
     "text": [
      "point =  4.490001195719794\n",
      "probability of observing that point if it came from cluster 0 =  0.395265743710524\n",
      "probability of observing that point if it came from cluster 1 =  6.049910721613549e-06\n",
      "point =  4.06054717142707\n",
      "probability of observing that point if it came from cluster 0 =  0.3250712242937205\n",
      "probability of observing that point if it came from cluster 1 =  2.602949244402122e-07\n",
      "point =  8.88409310831863\n",
      "probability of observing that point if it came from cluster 0 =  5.058485933309215e-05\n",
      "probability of observing that point if it came from cluster 1 =  0.17814441299400555\n",
      "point =  8.8891590816516\n",
      "probability of observing that point if it came from cluster 0 =  4.949093919820523e-05\n",
      "probability of observing that point if it came from cluster 1 =  0.17616699008159412\n",
      "point =  6.074171098785609\n",
      "probability of observing that point if it came from cluster 0 =  0.1561222088201446\n",
      "probability of observing that point if it came from cluster 1 =  0.02456594124454513\n",
      "point =  3.7595943235876996\n",
      "probability of observing that point if it came from cluster 0 =  0.25298272311774567\n",
      "probability of observing that point if it came from cluster 1 =  2.287527041636468e-08\n",
      "point =  6.059744343083684\n",
      "probability of observing that point if it came from cluster 0 =  0.15930385464916963\n",
      "probability of observing that point if it came from cluster 1 =  0.023314836054556944\n",
      "point =  9.17405057025647\n",
      "probability of observing that point if it came from cluster 0 =  1.3867953575092279e-05\n",
      "probability of observing that point if it came from cluster 1 =  0.08634613096274807\n",
      "point =  7.476647540564181\n",
      "probability of observing that point if it came from cluster 0 =  0.00785748065801874\n",
      "probability of observing that point if it came from cluster 1 =  0.5075882218053285\n",
      "point =  3.8478310497651957\n",
      "probability of observing that point if it came from cluster 0 =  0.2749365415526795\n",
      "probability of observing that point if it came from cluster 1 =  4.758032167976682e-08\n",
      "4.490001195719794\n",
      "Probability of coming from S_1 = 0.9999872452190867\n",
      "Probability of coming from S_2 = 1.2754780913416726e-05\n",
      "\n",
      "4.06054717142707\n",
      "Probability of coming from S_1 = 0.9999993327237969\n",
      "Probability of coming from S_2 = 6.672762031283646e-07\n",
      "\n",
      "8.88409310831863\n",
      "Probability of coming from S_1 = 0.0003406290064078729\n",
      "Probability of coming from S_2 = 0.999659370993592\n",
      "\n",
      "8.8891590816516\n",
      "Probability of coming from S_1 = 0.0003370047509603333\n",
      "Probability of coming from S_2 = 0.9996629952490397\n",
      "\n",
      "6.074171098785609\n",
      "Probability of coming from S_1 = 0.8840751225184349\n",
      "Probability of coming from S_2 = 0.11592487748156516\n",
      "\n",
      "3.7595943235876996\n",
      "Probability of coming from S_1 = 0.9999999246481195\n",
      "Probability of coming from S_2 = 7.53518804589909e-08\n",
      "\n",
      "6.059744343083684\n",
      "Probability of coming from S_1 = 0.8912957171890403\n",
      "Probability of coming from S_2 = 0.10870428281095972\n",
      "\n",
      "9.17405057025647\n",
      "Probability of coming from S_1 = 0.00019269349289075362\n",
      "Probability of coming from S_2 = 0.9998073065071094\n",
      "\n",
      "7.476647540564181\n",
      "Probability of coming from S_1 = 0.01823725944755171\n",
      "Probability of coming from S_2 = 0.9817627405524483\n",
      "\n",
      "3.8478310497651957\n",
      "Probability of coming from S_1 = 0.9999998557839489\n",
      "Probability of coming from S_2 = 1.4421605118165071e-07\n",
      "\n"
     ]
    }
   ],
   "source": [
    "from scipy.stats import norm\n",
    "\n",
    "prob_s0_x = [] # P(S_0 | X_i)\n",
    "prob_s1_x = [] # P(S_1 | X_i)\n",
    "prob_x = [] # P(X_i)\n",
    "\n",
    "k = 2\n",
    "\n",
    "for p in data:\n",
    "    print(\"point = \", p)\n",
    "    pdf_i = []\n",
    "\n",
    "    for j in range(k):\n",
    "        # P(X_i | S_j)\n",
    "        pdf_i.append(norm.pdf(p, mean[j], np.sqrt(var[j])))\n",
    "        print(\"probability of observing that point if it came from cluster \" + str(j) + \" = \", pdf_i[j])\n",
    "        # P(S_j) already computed\n",
    "        #prob_s[j]\n",
    "\n",
    "    # P(X_i) = P(S_0)P(X_i | S_0) + P(S_1)P(X_i | S_1)\n",
    "    prob_x = prob_s[0] * pdf_i[0] + prob_s[1] * pdf_i[1]\n",
    "\n",
    "    # P(S_j | X_i) = P(X_i | S_j)P(S_j) / P(X_i)\n",
    "    prob_s0_x.append( prob_s[0] * pdf_i[0] / prob_x )\n",
    "    prob_s1_x.append( prob_s[1] * pdf_i[1] / prob_x )\n",
    "\n",
    "probs = zip(data, prob_s0_x, prob_s1_x)\n",
    "for p in probs:\n",
    "    print(p[0])\n",
    "    print(\"Probability of coming from S_1 = \" + str(p[1]))\n",
    "    print(\"Probability of coming from S_2 = \" + str(p[2]))\n",
    "    print()\n"
   ]
  },
  {
   "cell_type": "markdown",
   "metadata": {},
   "source": [
    "f) Having computed `P(S_j | X_i)`, update the estimates of `mean_j`, `var_j`, and `P(S_j)`. How different are these values from the original ones you got from K means? briefly comment."
   ]
  },
  {
   "cell_type": "code",
   "execution_count": 119,
   "metadata": {},
   "outputs": [
    {
     "name": "stdout",
     "output_type": "stream",
     "text": [
      "P(S_1) = 0.5794464784780239,  P(S_2) = 0.42055352152197634\n",
      "mean_1 = 4.6722354656486536,  mean_2 = 8.475196089731227\n",
      "var_1 = 0.954840003593836,  var_2 = 0.7391232584163143\n"
     ]
    }
   ],
   "source": [
    "prob_s = [sum(prob_s0_x)/ len(prob_s0_x), sum(prob_s1_x)/len(prob_s1_x) ]\n",
    "mean = [sum([x[0] * x[1] for x in zip(prob_s0_x, data)]) / sum(prob_s0_x), sum([x[0] * x[1] for x in zip(prob_s1_x, data)]) / sum(prob_s1_x) ]\n",
    "var = [ sum( [x[0] * (x[1]-mean[0])**2 for x in zip(prob_s0_x,data)])/sum(prob_s0_x)  , sum( [x[0] * (x[1]-mean[1])**2 for x in zip(prob_s1_x,data)])/sum(prob_s1_x)  ]\n",
    "\n",
    "print(\"P(S_1) = \" + str(prob_s[0]) + \",  P(S_2) = \" + str(prob_s[1]))\n",
    "print(\"mean_1 = \" + str(mean[0]) + \",  mean_2 = \" + str(mean[1]))\n",
    "print(\"var_1 = \" + str(var[0]) + \",  var_2 = \" + str(var[1]))"
   ]
  },
  {
   "cell_type": "markdown",
   "metadata": {},
   "source": [
    "- The means of the distributions are close to the K means values.\n",
    "- The variances are close to the K means values.\n",
    "- The weights of the distributions are close to the K means values."
   ]
  },
  {
   "cell_type": "markdown",
   "metadata": {},
   "source": [
    "g) Update `P(S_j | X_i)`. Comment on any differences or lack thereof you observe."
   ]
  },
  {
   "cell_type": "code",
   "execution_count": 120,
   "metadata": {},
   "outputs": [
    {
     "name": "stdout",
     "output_type": "stream",
     "text": [
      "point =  4.490001195719794\n",
      "probability of observing that point if it came from cluster 0 =  0.40122906275722303\n",
      "probability of observing that point if it came from cluster 1 =  1.0014730557627847e-05\n",
      "point =  4.06054717142707\n",
      "probability of observing that point if it came from cluster 0 =  0.33562451880113636\n",
      "probability of observing that point if it came from cluster 1 =  8.726413852912789e-07\n",
      "point =  8.88409310831863\n",
      "probability of observing that point if it came from cluster 0 =  3.77240176276184e-05\n",
      "probability of observing that point if it came from cluster 1 =  0.4144105874993585\n",
      "point =  8.8891590816516\n",
      "probability of observing that point if it came from cluster 0 =  3.688987808829346e-05\n",
      "probability of observing that point if it came from cluster 1 =  0.41324361496951023\n",
      "point =  6.074171098785609\n",
      "probability of observing that point if it came from cluster 0 =  0.14587243610531103\n",
      "probability of observing that point if it came from cluster 1 =  0.009394502400731546\n",
      "point =  3.7595943235876996\n",
      "probability of observing that point if it came from cluster 0 =  0.2639524218535485\n",
      "probability of observing that point if it came from cluster 1 =  1.3600854385592673e-07\n",
      "point =  6.059744343083684\n",
      "probability of observing that point if it came from cluster 0 =  0.1489790194690646\n",
      "probability of observing that point if it came from cluster 1 =  0.008963124523903484\n",
      "point =  9.17405057025647\n",
      "probability of observing that point if it came from cluster 0 =  1.0046768050949485e-05\n",
      "probability of observing that point if it came from cluster 1 =  0.33347644291807876\n",
      "point =  7.476647540564181\n",
      "probability of observing that point if it came from cluster 0 =  0.006643071023430178\n",
      "probability of observing that point if it came from cluster 1 =  0.23638154167276804\n",
      "point =  3.8478310497651957\n",
      "probability of observing that point if it came from cluster 0 =  0.2860106424778452\n",
      "probability of observing that point if it came from cluster 1 =  2.37555339744402e-07\n",
      "4.490001195719794\n",
      "Probability of coming from S_1 = 0.9999818846401869\n",
      "Probability of coming from S_2 = 1.8115359813158372e-05\n",
      "\n",
      "4.06054717142707\n",
      "Probability of coming from S_1 = 0.9999981129246058\n",
      "Probability of coming from S_2 = 1.887075394168869e-06\n",
      "\n",
      "8.88409310831863\n",
      "Probability of coming from S_1 = 0.00012540783873087063\n",
      "Probability of coming from S_2 = 0.9998745921612691\n",
      "\n",
      "8.8891590816516\n",
      "Probability of coming from S_1 = 0.00012298147809272153\n",
      "Probability of coming from S_2 = 0.9998770185219072\n",
      "\n",
      "6.074171098785609\n",
      "Probability of coming from S_1 = 0.9553451342561973\n",
      "Probability of coming from S_2 = 0.04465486574380262\n",
      "\n",
      "3.7595943235876996\n",
      "Probability of coming from S_1 = 0.9999996260200463\n",
      "Probability of coming from S_2 = 3.7397995366684813e-07\n",
      "\n",
      "6.059744343083684\n",
      "Probability of coming from S_1 = 0.9581610499795582\n",
      "Probability of coming from S_2 = 0.04183895002044186\n",
      "\n",
      "9.17405057025647\n",
      "Probability of coming from S_1 = 4.150832821984237e-05\n",
      "Probability of coming from S_2 = 0.9999584916717802\n",
      "\n",
      "7.476647540564181\n",
      "Probability of coming from S_1 = 0.037277643111909425\n",
      "Probability of coming from S_2 = 0.9627223568880906\n",
      "\n",
      "3.8478310497651957\n",
      "Probability of coming from S_1 = 0.9999993971763426\n",
      "Probability of coming from S_2 = 6.028236574554231e-07\n",
      "\n"
     ]
    }
   ],
   "source": [
    "prob_s0_x = [] # P(S_0 | X_i)\n",
    "prob_s1_x = [] # P(S_1 | X_i)\n",
    "prob_x = [] # P(X_i)\n",
    "\n",
    "k = 2\n",
    "\n",
    "for p in data:\n",
    "    print(\"point = \", p)\n",
    "    pdf_i = []\n",
    "\n",
    "    for j in range(k):\n",
    "        # P(X_i | S_j)\n",
    "        pdf_i.append(norm.pdf(p, mean[j], np.sqrt(var[j])))\n",
    "        print(\"probability of observing that point if it came from cluster \" + str(j) + \" = \", pdf_i[j])\n",
    "        # P(S_j) already computed\n",
    "        #prob_s[j]\n",
    "\n",
    "    # P(X_i) = P(S_0)P(X_i | S_0) + P(S_1)P(X_i | S_1)\n",
    "    prob_x = prob_s[0] * pdf_i[0] + prob_s[1] * pdf_i[1]\n",
    "\n",
    "    # P(S_j | X_i) = P(X_i | S_j)P(S_j) / P(X_i)\n",
    "    prob_s0_x.append( prob_s[0] * pdf_i[0] / prob_x )\n",
    "    prob_s1_x.append( prob_s[1] * pdf_i[1] / prob_x )\n",
    "\n",
    "probs = zip(data, prob_s0_x, prob_s1_x)\n",
    "for p in probs:\n",
    "    print(p[0])\n",
    "    print(\"Probability of coming from S_1 = \" + str(p[1]))\n",
    "    print(\"Probability of coming from S_2 = \" + str(p[2]))\n",
    "    print()\n"
   ]
  },
  {
   "cell_type": "markdown",
   "metadata": {},
   "source": [
    "There are very slight differences between the values of the probabilities, but the hard assignment will be the same in this case."
   ]
  },
  {
   "cell_type": "markdown",
   "metadata": {},
   "source": [
    "h) Use `P(S_j | X_i)` to create a hard assignment - label each point as belonging to a specific cluster (0 or 1)"
   ]
  },
  {
   "cell_type": "code",
   "execution_count": 121,
   "metadata": {},
   "outputs": [
    {
     "name": "stdout",
     "output_type": "stream",
     "text": [
      "4.490001195719794  belongs to  0.0\n",
      "4.06054717142707  belongs to  0.0\n",
      "8.88409310831863  belongs to  1.0\n",
      "8.8891590816516  belongs to  1.0\n",
      "6.074171098785609  belongs to  0.0\n",
      "3.7595943235876996  belongs to  0.0\n",
      "6.059744343083684  belongs to  0.0\n",
      "9.17405057025647  belongs to  1.0\n",
      "7.476647540564181  belongs to  1.0\n",
      "3.8478310497651957  belongs to  0.0\n"
     ]
    }
   ],
   "source": [
    "hard_assignment = np.round(prob_s1_x)\n",
    "for x in zip(hard_assignment,data):\n",
    "    print(x[1],\" belongs to \",x[0])"
   ]
  },
  {
   "cell_type": "markdown",
   "metadata": {},
   "source": [
    "Even upon visual inspection, we could clearly say that the assignments to the distributions are correct."
   ]
  }
 ],
 "metadata": {
  "kernelspec": {
   "display_name": "Python 3",
   "language": "python",
   "name": "python3"
  },
  "language_info": {
   "codemirror_mode": {
    "name": "ipython",
    "version": 3
   },
   "file_extension": ".py",
   "mimetype": "text/x-python",
   "name": "python",
   "nbconvert_exporter": "python",
   "pygments_lexer": "ipython3",
   "version": "3.9.16"
  },
  "orig_nbformat": 4,
  "vscode": {
   "interpreter": {
    "hash": "e7370f93d1d0cde622a1f8e1c04877d8463912d04d973331ad4851f04de6915a"
   }
  }
 },
 "nbformat": 4,
 "nbformat_minor": 2
}
