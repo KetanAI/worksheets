{
 "cells": [
  {
   "attachments": {},
   "cell_type": "markdown",
   "metadata": {},
   "source": [
    "# Worksheet 08\n",
    "\n",
    "Name:  Ketan Suhaas Saichandran\n",
    "UID: U68176921\n",
    "\n",
    "### Topics\n",
    "\n",
    "- Soft Clustering\n",
    "- Clustering Aggregation\n",
    "\n",
    "### Probability Review\n",
    "\n",
    "Read through [the following](https://medium.com/@gallettilance/overview-of-probability-3272b72c82c8)\n",
    "\n",
    "### Soft Clustering\n",
    "\n",
    "We generate 10 data points that come from a normal distribution with mean 5 and variance 1."
   ]
  },
  {
   "cell_type": "code",
   "execution_count": 1,
   "metadata": {},
   "outputs": [
    {
     "name": "stdout",
     "output_type": "stream",
     "text": [
      "[4.581042006786394, 5.037023018304715, 5.309208668390204, 5.666486114911809, 5.120617568874539, 3.3800387637019877, 4.131128689924663, 4.86508990708176, 4.733716039750574, 4.084389997555742]\n"
     ]
    }
   ],
   "source": [
    "import random\n",
    "import numpy as np\n",
    "from sklearn.cluster import KMeans\n",
    "\n",
    "mean = 5\n",
    "stdev = 1\n",
    "\n",
    "s1 = np.random.normal(mean, stdev, 10).tolist()\n",
    "print(s1)"
   ]
  },
  {
   "cell_type": "markdown",
   "metadata": {},
   "source": [
    "a) Generate 10 more data points, this time coming from a normal distribution with mean 8 and variance 1."
   ]
  },
  {
   "cell_type": "code",
   "execution_count": 2,
   "metadata": {},
   "outputs": [
    {
     "name": "stdout",
     "output_type": "stream",
     "text": [
      "[8.788416526169, 6.705609826368393, 9.23220040415905, 8.026891882779744, 7.535156071893178, 8.33216751771003, 8.685857069087149, 8.029615672989495, 9.635988190701353, 9.022487964708631]\n"
     ]
    }
   ],
   "source": [
    "s2 = np.random.normal(8, 1, 10).tolist()\n",
    "print(s2)"
   ]
  },
  {
   "cell_type": "markdown",
   "metadata": {},
   "source": [
    "b) Flip a fair coin 10 times. If the coin lands on H, then pick the last data point of `c1` and remove it from `c1`, if T then pick the last data point from `c2` and remove it from `c2`. Add these 10 points to a list called `data`."
   ]
  },
  {
   "cell_type": "code",
   "execution_count": 3,
   "metadata": {},
   "outputs": [
    {
     "name": "stdout",
     "output_type": "stream",
     "text": [
      "[9.022487964708631, 4.084389997555742, 9.635988190701353, 4.733716039750574, 8.029615672989495, 8.685857069087149, 4.86508990708176, 8.33216751771003, 4.131128689924663, 7.535156071893178]\n"
     ]
    }
   ],
   "source": [
    "data = []\n",
    "for i in range(10):\n",
    "    # flip coin\n",
    "    coin_output = random.choice([0, 1])\n",
    "    if coin_output == 0:\n",
    "        p1 = s1[-1]\n",
    "        s1.pop()\n",
    "        data.append(p1)\n",
    "    else:\n",
    "        p2 = s2[-1]\n",
    "        s2.pop()\n",
    "        data.append(p2)\n",
    "print(data)"
   ]
  },
  {
   "cell_type": "markdown",
   "metadata": {},
   "source": [
    "c) This `data` is a Gaussian Mixture Distribution with 2 mixture components. Over the next few questions we will walk through the GMM algorithm to see if we can uncover the parameters we used to generate this data. First, please list all these parameters of the GMM that created `data` and the values we know they have."
   ]
  },
  {
   "cell_type": "markdown",
   "metadata": {},
   "source": [
    "1. No of components = 2.\n",
    "2. Means of components = [5, 8]\n",
    "3. Standard deviations of components = [1, 1]\n",
    "4. Weight of the components = [1/2, 1/2] (Uniform Distribution)\n",
    "\n"
   ]
  },
  {
   "cell_type": "markdown",
   "metadata": {},
   "source": [
    "d) Let's assume there are two mixture components (note: we could plot the data and make the observation that there are two clusters). The EM algorithm asks us to start with a random `mean_j`, `variance_j`, `P(S_j)` for each component j. One method we could use to find sensible values for these is to apply K means with k=2 here.\n",
    "\n",
    "1. the centroids would be the estimates of the `mean_j`\n",
    "2. the intra-cluster variance could be the estimate of `variance_j`\n",
    "3. the proportion of points in each cluster could be the estimate of `P(S_j)`\n",
    "\n",
    "Go through this process and list the parameter estimates it gives. Are they close or far from the true values?"
   ]
  },
  {
   "cell_type": "code",
   "execution_count": 4,
   "metadata": {},
   "outputs": [
    {
     "name": "stderr",
     "output_type": "stream",
     "text": [
      "c:\\Users\\91960\\anaconda3\\envs\\tf\\lib\\site-packages\\sklearn\\cluster\\_kmeans.py:870: FutureWarning: The default value of `n_init` will change from 10 to 'auto' in 1.4. Set the value of `n_init` explicitly to suppress the warning\n",
      "  warnings.warn(\n"
     ]
    },
    {
     "name": "stdout",
     "output_type": "stream",
     "text": [
      "[9.022487964708631, 4.084389997555742, 9.635988190701353, 4.733716039750574, 8.029615672989495, 8.685857069087149, 4.86508990708176, 8.33216751771003, 4.131128689924663, 7.535156071893178]\n",
      "[4.084389997555742, 4.733716039750574, 4.86508990708176, 4.131128689924663]\n",
      "[9.022487964708631, 9.635988190701353, 8.029615672989495, 8.685857069087149, 8.33216751771003, 7.535156071893178]\n",
      "P(S_1) = 0.4,  P(S_2) = 0.6\n",
      "mean_1 = 4.453581158578184,  mean_2 = 8.54021208118164\n",
      "var_1 = 0.12202317741557435,  var_2 = 0.4614427644639257\n"
     ]
    }
   ],
   "source": [
    "kmeans = KMeans(2, init='k-means++').fit(X=np.array(data).reshape(-1, 1))\n",
    "print(data)\n",
    "s1 = [x[0] for x in filter(lambda x: x[1] == 0, zip(data, kmeans.labels_))]\n",
    "print(s1)\n",
    "s2 = [x[0] for x in filter(lambda x: x[1] == 1, zip(data, kmeans.labels_))]\n",
    "print(s2)\n",
    "\n",
    "prob_s = [ len(s1) / (len(s1) + len(s2)) , len(s2) / (len(s1) + len(s2)) ]\n",
    "mean = [ sum(s1)/len(s1) , sum(s2)/len(s2) ]\n",
    "var = [ sum(map(lambda x : (x - mean[0])**2, s1)) / len(s1) , sum(map(lambda x : (x - mean[1])**2, s2)) / len(s2)]\n",
    "\n",
    "print(\"P(S_1) = \" + str(prob_s[0]) + \",  P(S_2) = \" + str(prob_s[1]))\n",
    "print(\"mean_1 = \" + str(mean[0]) + \",  mean_2 = \" + str(mean[1]))\n",
    "print(\"var_1 = \" + str(var[0]) + \",  var_2 = \" + str(var[1]))"
   ]
  },
  {
   "cell_type": "markdown",
   "metadata": {},
   "source": [
    "- The mean of the distributions clustered are close to the true values.\n",
    "- The variances are almost close to the true values.\n",
    "- The weights of the distributions are close to the true values."
   ]
  },
  {
   "cell_type": "markdown",
   "metadata": {},
   "source": [
    "e) For each data point, compute `P(S_j | X_i)`. Comment on which cluster you think each point belongs to based on the estimated probabilities. How does that compare to the truth?"
   ]
  },
  {
   "cell_type": "code",
   "execution_count": 5,
   "metadata": {},
   "outputs": [
    {
     "name": "stdout",
     "output_type": "stream",
     "text": [
      "point =  9.022487964708631\n",
      "probability of observing that point if it came from cluster 0 =  8.120647565294758e-38\n",
      "probability of observing that point if it came from cluster 1 =  0.45645521340551354\n",
      "point =  4.084389997555742\n",
      "probability of observing that point if it came from cluster 0 =  0.6533283060185847\n",
      "probability of observing that point if it came from cluster 1 =  2.66517767275059e-10\n",
      "point =  9.635988190701353\n",
      "probability of observing that point if it came from cluster 0 =  1.8344575920109756e-48\n",
      "probability of observing that point if it came from cluster 1 =  0.15988581184682973\n",
      "point =  4.733716039750574\n",
      "probability of observing that point if it came from cluster 0 =  0.8280130033498937\n",
      "probability of observing that point if it came from cluster 1 =  8.920235918618251e-08\n",
      "point =  8.029615672989495\n",
      "probability of observing that point if it came from cluster 0 =  1.9983381728673628e-23\n",
      "probability of observing that point if it came from cluster 1 =  0.44275757387184544\n",
      "point =  8.685857069087149\n",
      "probability of observing that point if it came from cluster 0 =  1.5204572240326397e-32\n",
      "probability of observing that point if it came from cluster 1 =  0.573943201299481\n",
      "point =  4.86508990708176\n",
      "probability of observing that point if it came from cluster 0 =  0.5706103433279077\n",
      "probability of observing that point if it came from cluster 1 =  2.587661757380051e-07\n",
      "point =  8.33216751771003\n",
      "probability of observing that point if it came from cluster 0 =  1.9365950462016652e-27\n",
      "probability of observing that point if it came from cluster 1 =  0.5603806189098195\n",
      "point =  4.131128689924663\n",
      "probability of observing that point if it came from cluster 0 =  0.7458618063703635\n",
      "probability of observing that point if it came from cluster 1 =  4.175465057073562e-10\n",
      "point =  7.535156071893178\n",
      "probability of observing that point if it came from cluster 0 =  1.4415424212039718e-17\n",
      "probability of observing that point if it came from cluster 1 =  0.19656097968784406\n",
      "9.022487964708631\n",
      "Probability of coming from S_1 = 1.1860451769493246e-37\n",
      "Probability of coming from S_2 = 1.0\n",
      "\n",
      "4.084389997555742\n",
      "Probability of coming from S_1 = 0.9999999993880924\n",
      "Probability of coming from S_2 = 6.119077452869308e-10\n",
      "\n",
      "9.635988190701353\n",
      "Probability of coming from S_1 = 7.649032230445323e-48\n",
      "Probability of coming from S_2 = 1.0\n",
      "\n",
      "4.733716039750574\n",
      "Probability of coming from S_1 = 0.9999998384040871\n",
      "Probability of coming from S_2 = 1.6159591288523203e-07\n",
      "\n",
      "8.029615672989495\n",
      "Probability of coming from S_1 = 3.008927519699188e-23\n",
      "Probability of coming from S_2 = 1.0\n",
      "\n",
      "8.685857069087149\n",
      "Probability of coming from S_1 = 1.766094880225232e-32\n",
      "Probability of coming from S_2 = 1.0\n",
      "\n",
      "4.86508990708176\n",
      "Probability of coming from S_1 = 0.999999319765223\n",
      "Probability of coming from S_2 = 6.802347768717639e-07\n",
      "\n",
      "8.33216751771003\n",
      "Probability of coming from S_1 = 2.3039043831425066e-27\n",
      "Probability of coming from S_2 = 1.0\n",
      "\n",
      "4.131128689924663\n",
      "Probability of coming from S_1 = 0.9999999991602738\n",
      "Probability of coming from S_2 = 8.397262772885479e-10\n",
      "\n",
      "7.535156071893178\n",
      "Probability of coming from S_1 = 4.889211899171669e-17\n",
      "Probability of coming from S_2 = 1.0\n",
      "\n"
     ]
    }
   ],
   "source": [
    "from scipy.stats import norm\n",
    "\n",
    "prob_s0_x = [] # P(S_0 | X_i)\n",
    "prob_s1_x = [] # P(S_1 | X_i)\n",
    "prob_x = [] # P(X_i)\n",
    "\n",
    "k = 2\n",
    "\n",
    "for p in data:\n",
    "    print(\"point = \", p)\n",
    "    pdf_i = []\n",
    "\n",
    "    for j in range(k):\n",
    "        # P(X_i | S_j)\n",
    "        pdf_i.append(norm.pdf(p, mean[j], np.sqrt(var[j])))\n",
    "        print(\"probability of observing that point if it came from cluster \" + str(j) + \" = \", pdf_i[j])\n",
    "        # P(S_j) already computed\n",
    "        #prob_s[j]\n",
    "\n",
    "    # P(X_i) = P(S_0)P(X_i | S_0) + P(S_1)P(X_i | S_1)\n",
    "    prob_x = prob_s[0] * pdf_i[0] + prob_s[1] * pdf_i[1]\n",
    "\n",
    "    # P(S_j | X_i) = P(X_i | S_j)P(S_j) / P(X_i)\n",
    "    prob_s0_x.append( prob_s[0] * pdf_i[0] / prob_x )\n",
    "    prob_s1_x.append( prob_s[1] * pdf_i[1] / prob_x )\n",
    "\n",
    "probs = zip(data, prob_s0_x, prob_s1_x)\n",
    "for p in probs:\n",
    "    print(p[0])\n",
    "    print(\"Probability of coming from S_1 = \" + str(p[1]))\n",
    "    print(\"Probability of coming from S_2 = \" + str(p[2]))\n",
    "    print()\n"
   ]
  },
  {
   "cell_type": "markdown",
   "metadata": {},
   "source": [
    "f) Having computed `P(S_j | X_i)`, update the estimates of `mean_j`, `var_j`, and `P(S_j)`. How different are these values from the original ones you got from K means? briefly comment."
   ]
  },
  {
   "cell_type": "code",
   "execution_count": 6,
   "metadata": {},
   "outputs": [
    {
     "name": "stdout",
     "output_type": "stream",
     "text": [
      "P(S_1) = 0.3999999156717676,  P(S_2) = 0.6000000843282324\n",
      "mean_1 = 4.453581077404535,  mean_2 = 8.54021156093353\n",
      "var_1 = 0.12202317112990699,  var_2 = 0.4614446258605984\n"
     ]
    }
   ],
   "source": [
    "prob_s = [sum(prob_s0_x)/ len(prob_s0_x), sum(prob_s1_x)/len(prob_s1_x) ]\n",
    "mean = [sum([x[0] * x[1] for x in zip(prob_s0_x, data)]) / sum(prob_s0_x), sum([x[0] * x[1] for x in zip(prob_s1_x, data)]) / sum(prob_s1_x) ]\n",
    "var = [ sum( [x[0] * (x[1]-mean[0])**2 for x in zip(prob_s0_x,data)])/sum(prob_s0_x)  , sum( [x[0] * (x[1]-mean[1])**2 for x in zip(prob_s1_x,data)])/sum(prob_s1_x)  ]\n",
    "\n",
    "print(\"P(S_1) = \" + str(prob_s[0]) + \",  P(S_2) = \" + str(prob_s[1]))\n",
    "print(\"mean_1 = \" + str(mean[0]) + \",  mean_2 = \" + str(mean[1]))\n",
    "print(\"var_1 = \" + str(var[0]) + \",  var_2 = \" + str(var[1]))"
   ]
  },
  {
   "cell_type": "markdown",
   "metadata": {},
   "source": [
    "- The means of the distributions are close to the K means values.\n",
    "- The variances are close to the K means values.\n",
    "- The weights of the distributions are close to the K means values."
   ]
  },
  {
   "cell_type": "markdown",
   "metadata": {},
   "source": [
    "g) Update `P(S_j | X_i)`. Comment on any differences or lack thereof you observe."
   ]
  },
  {
   "cell_type": "code",
   "execution_count": 7,
   "metadata": {},
   "outputs": [
    {
     "name": "stdout",
     "output_type": "stream",
     "text": [
      "point =  9.022487964708631\n",
      "probability of observing that point if it came from cluster 0 =  8.120587311973516e-38\n",
      "probability of observing that point if it came from cluster 1 =  0.4564545086245036\n",
      "point =  4.084389997555742\n",
      "probability of observing that point if it came from cluster 0 =  0.6533284645053439\n",
      "probability of observing that point if it came from cluster 1 =  2.665416985059907e-10\n",
      "point =  9.635988190701353\n",
      "probability of observing that point if it came from cluster 0 =  1.834440915661634e-48\n",
      "probability of observing that point if it came from cluster 1 =  0.15988613096574497\n",
      "point =  4.733716039750574\n",
      "probability of observing that point if it came from cluster 0 =  0.8280128566568526\n",
      "probability of observing that point if it came from cluster 1 =  8.920821163339606e-08\n",
      "point =  8.029615672989495\n",
      "probability of observing that point if it came from cluster 0 =  1.998328076556493e-23\n",
      "probability of observing that point if it came from cluster 1 =  0.44275744027830133\n",
      "point =  8.685857069087149\n",
      "probability of observing that point if it came from cluster 0 =  1.5204472339078112e-32\n",
      "probability of observing that point if it came from cluster 1 =  0.5739420026692396\n",
      "point =  4.86508990708176\n",
      "probability of observing that point if it came from cluster 0 =  0.5706101814253117\n",
      "probability of observing that point if it came from cluster 1 =  2.587820029502135e-07\n",
      "point =  8.33216751771003\n",
      "probability of observing that point if it came from cluster 0 =  1.9365839501369177e-27\n",
      "probability of observing that point if it came from cluster 1 =  0.5603797261193283\n",
      "point =  4.131128689924663\n",
      "probability of observing that point if it came from cluster 0 =  0.7458619692031149\n",
      "probability of observing that point if it came from cluster 1 =  4.17583219894194e-10\n",
      "point =  7.535156071893178\n",
      "probability of observing that point if it came from cluster 0 =  1.441536613825839e-17\n",
      "probability of observing that point if it came from cluster 1 =  0.19656167382905163\n",
      "9.022487964708631\n",
      "Probability of coming from S_1 = 1.186037791313636e-37\n",
      "Probability of coming from S_2 = 1.0\n",
      "\n",
      "4.084389997555742\n",
      "Probability of coming from S_1 = 0.9999999993880373\n",
      "Probability of coming from S_2 = 6.119627564340789e-10\n",
      "\n",
      "9.635988190701353\n",
      "Probability of coming from S_1 = 7.648944741769924e-48\n",
      "Probability of coming from S_2 = 1.0\n",
      "\n",
      "4.733716039750574\n",
      "Probability of coming from S_1 = 0.9999998383933997\n",
      "Probability of coming from S_2 = 1.6160660038871242e-07\n",
      "\n",
      "8.029615672989495\n",
      "Probability of coming from S_1 = 3.008912168180551e-23\n",
      "Probability of coming from S_2 = 1.0\n",
      "\n",
      "8.685857069087149\n",
      "Probability of coming from S_1 = 1.7660863439171858e-32\n",
      "Probability of coming from S_2 = 1.0\n",
      "\n",
      "4.86508990708176\n",
      "Probability of coming from S_1 = 0.9999993197231851\n",
      "Probability of coming from S_2 = 6.802768148685766e-07\n",
      "\n",
      "8.33216751771003\n",
      "Probability of coming from S_1 = 2.3038940435325593e-27\n",
      "Probability of coming from S_2 = 1.0\n",
      "\n",
      "4.131128689924663\n",
      "Probability of coming from S_1 = 0.9999999991601998\n",
      "Probability of coming from S_2 = 8.39800224795446e-10\n",
      "\n",
      "7.535156071893178\n",
      "Probability of coming from S_1 = 4.889173218885976e-17\n",
      "Probability of coming from S_2 = 1.0\n",
      "\n"
     ]
    }
   ],
   "source": [
    "prob_s0_x = [] # P(S_0 | X_i)\n",
    "prob_s1_x = [] # P(S_1 | X_i)\n",
    "prob_x = [] # P(X_i)\n",
    "\n",
    "k = 2\n",
    "\n",
    "for p in data:\n",
    "    print(\"point = \", p)\n",
    "    pdf_i = []\n",
    "\n",
    "    for j in range(k):\n",
    "        # P(X_i | S_j)\n",
    "        pdf_i.append(norm.pdf(p, mean[j], np.sqrt(var[j])))\n",
    "        print(\"probability of observing that point if it came from cluster \" + str(j) + \" = \", pdf_i[j])\n",
    "        # P(S_j) already computed\n",
    "        #prob_s[j]\n",
    "\n",
    "    # P(X_i) = P(S_0)P(X_i | S_0) + P(S_1)P(X_i | S_1)\n",
    "    prob_x = prob_s[0] * pdf_i[0] + prob_s[1] * pdf_i[1]\n",
    "\n",
    "    # P(S_j | X_i) = P(X_i | S_j)P(S_j) / P(X_i)\n",
    "    prob_s0_x.append( prob_s[0] * pdf_i[0] / prob_x )\n",
    "    prob_s1_x.append( prob_s[1] * pdf_i[1] / prob_x )\n",
    "\n",
    "probs = zip(data, prob_s0_x, prob_s1_x)\n",
    "for p in probs:\n",
    "    print(p[0])\n",
    "    print(\"Probability of coming from S_1 = \" + str(p[1]))\n",
    "    print(\"Probability of coming from S_2 = \" + str(p[2]))\n",
    "    print()\n"
   ]
  },
  {
   "cell_type": "markdown",
   "metadata": {},
   "source": [
    "There are very slight differences between the values of the probabilities, but the hard assignment will be the same in this case."
   ]
  },
  {
   "cell_type": "markdown",
   "metadata": {},
   "source": [
    "h) Use `P(S_j | X_i)` to create a hard assignment - label each point as belonging to a specific cluster (0 or 1)"
   ]
  },
  {
   "cell_type": "code",
   "execution_count": 8,
   "metadata": {},
   "outputs": [
    {
     "name": "stdout",
     "output_type": "stream",
     "text": [
      "9.022487964708631  belongs to  1.0\n",
      "4.084389997555742  belongs to  0.0\n",
      "9.635988190701353  belongs to  1.0\n",
      "4.733716039750574  belongs to  0.0\n",
      "8.029615672989495  belongs to  1.0\n",
      "8.685857069087149  belongs to  1.0\n",
      "4.86508990708176  belongs to  0.0\n",
      "8.33216751771003  belongs to  1.0\n",
      "4.131128689924663  belongs to  0.0\n",
      "7.535156071893178  belongs to  1.0\n"
     ]
    }
   ],
   "source": [
    "hard_assignment = np.round(prob_s1_x)\n",
    "for x in zip(hard_assignment,data):\n",
    "    print(x[1],\" belongs to \",x[0])"
   ]
  },
  {
   "cell_type": "markdown",
   "metadata": {},
   "source": [
    "Even upon visual inspection, we could clearly say that the assignments to the distributions are correct."
   ]
  }
 ],
 "metadata": {
  "kernelspec": {
   "display_name": "Python 3",
   "language": "python",
   "name": "python3"
  },
  "language_info": {
   "codemirror_mode": {
    "name": "ipython",
    "version": 3
   },
   "file_extension": ".py",
   "mimetype": "text/x-python",
   "name": "python",
   "nbconvert_exporter": "python",
   "pygments_lexer": "ipython3",
   "version": "3.9.16"
  },
  "orig_nbformat": 4,
  "vscode": {
   "interpreter": {
    "hash": "e7370f93d1d0cde622a1f8e1c04877d8463912d04d973331ad4851f04de6915a"
   }
  }
 },
 "nbformat": 4,
 "nbformat_minor": 2
}
